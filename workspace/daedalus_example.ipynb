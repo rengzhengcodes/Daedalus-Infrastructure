{
 "cells": [
  {
   "cell_type": "code",
   "execution_count": null,
   "metadata": {},
   "outputs": [],
   "source": [
    "!git clone --recurse-submodules https://github.com/rengzhengcodes/Daedalus-Infrastructure.git\n",
    "!cd Daedalus-Infrastructure/workspace/Daedalus/ && git submodule update --init --recursive && make -j24\n",
    "from daedalus.tests import test_sgd, test_midas, test_gridsearch\n",
    "\n",
    "test_sgd()\n",
    "test_midas()\n",
    "test_gridsearch()"
   ]
  }
 ],
 "metadata": {
  "language_info": {
   "name": "python"
  }
 },
 "nbformat": 4,
 "nbformat_minor": 2
}
