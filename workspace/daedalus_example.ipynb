{
 "cells": [
  {
   "cell_type": "code",
   "execution_count": null,
   "metadata": {},
   "outputs": [],
   "source": [
    "!cd Daedalus/ && git submodule update --init --recursive && make -j24\n",
    "from daedalus.tests import test_sgd, test_midas, test_gridsearch\n",
    "\n",
    "test_sgd()\n",
    "test_midas()\n",
    "test_gridsearch()"
   ]
  }
 ],
 "metadata": {
  "language_info": {
   "name": "python"
  }
 },
 "nbformat": 4,
 "nbformat_minor": 2
}
